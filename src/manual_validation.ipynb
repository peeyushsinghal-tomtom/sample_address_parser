{
 "cells": [
  {
   "cell_type": "code",
   "execution_count": 4,
   "metadata": {},
   "outputs": [],
   "source": [
    "import pandas as pd"
   ]
  },
  {
   "cell_type": "code",
   "execution_count": 5,
   "metadata": {},
   "outputs": [],
   "source": [
    "# countries = [\"gb\", \"us\", \"fr\", \"de\", \"it\", \"es\", \"nl\", \"be\", \"ca\", \"pl\"]\n",
    "countries = [\"id\", \"my\", \"sa\", \"sg\", \"th\", \"tw\"]\n",
    "# sampling_run_ids = ['20240109-0001', '20220602-0001']\n",
    "sampling_run_ids = ['20240109-0001']\n",
    "base_path = \"/Users/peeyush.singhal/Library/CloudStorage/OneDrive-TomTom/projects/sample-address-normalization\"\n",
    "interesting_columns = [\"sample_id\",\"searched_query\", \"country_ISO2\", \"corrected_address\", \"coordinates\",\"gtd_validate\",\"searched_query_unidecode\"]"
   ]
  },
  {
   "cell_type": "code",
   "execution_count": 6,
   "metadata": {},
   "outputs": [
    {
     "name": "stdout",
     "output_type": "stream",
     "text": [
      "id ... 20240109-0001\n",
      "my ... 20240109-0001\n",
      "sa ... 20240109-0001\n",
      "sg ... 20240109-0001\n",
      "th ... 20240109-0001\n",
      "tw ... 20240109-0001\n"
     ]
    }
   ],
   "source": [
    "\n",
    "for sampling_run_id in sampling_run_ids:\n",
    "    for country in countries:\n",
    "        print(country, \"...\", sampling_run_id)\n",
    "        full_path = f\"{base_path}/data/{sampling_run_id}/output/{country}/samples_normalized_processed.csv\"  \n",
    "        manual_path = f\"{base_path}/data/{sampling_run_id}/output/{country}/manual_validated.csv\"\n",
    "        auto_path = f\"{base_path}/data/{sampling_run_id}/output/{country}/validated_sample.csv\"\n",
    "        df_manual = pd.read_csv(full_path)\n",
    "\n",
    "        # update column values\n",
    "        # no changes to sample_id, lat, lon,\n",
    "        df_manual[\"gtd_validate\"] = 'yes'\n",
    "        df_manual[\"searched_query\"] = df_manual[\"normalized_address\"]\n",
    "        df_manual[\"searched_query_unidecode\"] = df_manual[\"normalized_address_unidecode\"]\n",
    "        df_manual[\"corrected_address\"] = df_manual[\"normalized_address\"]\n",
    "        # df_manual.rename(columns={'country': 'country_ISO2'}, inplace=True)\n",
    "        df_manual[\"country_ISO2\"] = country.lower()\n",
    "        df_manual['coordinates'] = df_manual['lat'].astype(str)+ \", \" +df_manual['lon'].astype(str)\n",
    "\n",
    "\n",
    "        # select interesting columns\n",
    "        df_manual = df_manual[interesting_columns]\n",
    "        df_validated= pd.DataFrame(columns=df_manual.columns)\n",
    "\n",
    "\n",
    "        #save to csv\n",
    "        df_manual.to_csv(manual_path, index=False)\n",
    "        df_validated.to_csv(auto_path, index=False)\n",
    "\n",
    " \n"
   ]
  },
  {
   "cell_type": "code",
   "execution_count": null,
   "metadata": {},
   "outputs": [],
   "source": []
  }
 ],
 "metadata": {
  "kernelspec": {
   "display_name": "sample_address_norm_env",
   "language": "python",
   "name": "python3"
  },
  "language_info": {
   "codemirror_mode": {
    "name": "ipython",
    "version": 3
   },
   "file_extension": ".py",
   "mimetype": "text/x-python",
   "name": "python",
   "nbconvert_exporter": "python",
   "pygments_lexer": "ipython3",
   "version": "3.9.20"
  }
 },
 "nbformat": 4,
 "nbformat_minor": 2
}
